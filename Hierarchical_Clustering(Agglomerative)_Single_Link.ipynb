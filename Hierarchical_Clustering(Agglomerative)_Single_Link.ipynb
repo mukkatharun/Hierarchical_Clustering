{
  "nbformat": 4,
  "nbformat_minor": 0,
  "metadata": {
    "colab": {
      "name": "Hierarchical Clustering(Agglomerative) Single Link.ipynb",
      "provenance": [],
      "authorship_tag": "ABX9TyOZxzFIA8B+7+BOjIH1s6I/",
      "include_colab_link": true
    },
    "kernelspec": {
      "name": "python3",
      "display_name": "Python 3"
    },
    "language_info": {
      "name": "python"
    }
  },
  "cells": [
    {
      "cell_type": "markdown",
      "metadata": {
        "id": "view-in-github",
        "colab_type": "text"
      },
      "source": [
        "<a href=\"https://colab.research.google.com/github/mukkatharun/Hierarchical_Clustering/blob/main/Hierarchical_Clustering(Agglomerative)_Single_Link.ipynb\" target=\"_parent\"><img src=\"https://colab.research.google.com/assets/colab-badge.svg\" alt=\"Open In Colab\"/></a>"
      ]
    },
    {
      "cell_type": "code",
      "metadata": {
        "id": "W8OtrDUUd8-O"
      },
      "source": [
        "import pandas as pd\n",
        "import matplotlib.pyplot as plt\n",
        "import scipy\n",
        "from scipy.cluster.hierarchy import dendrogram, linkage  \n",
        "from sklearn.cluster import AgglomerativeClustering"
      ],
      "execution_count": 16,
      "outputs": []
    },
    {
      "cell_type": "code",
      "metadata": {
        "colab": {
          "base_uri": "https://localhost:8080/",
          "height": 381
        },
        "id": "kmjfR-6geFX0",
        "outputId": "25959654-8d62-4335-e0f3-61f6c23ff244"
      },
      "source": [
        "data = [[3,7],[2,6],[2,2],[5,8],[5,5],[5,2],[6,6],[8,4],[7,3],[10,6],[12,8]]\n",
        "df = pd.DataFrame(data, columns= ['P1','P2'])\n",
        "df"
      ],
      "execution_count": 4,
      "outputs": [
        {
          "output_type": "execute_result",
          "data": {
            "text/html": [
              "<div>\n",
              "<style scoped>\n",
              "    .dataframe tbody tr th:only-of-type {\n",
              "        vertical-align: middle;\n",
              "    }\n",
              "\n",
              "    .dataframe tbody tr th {\n",
              "        vertical-align: top;\n",
              "    }\n",
              "\n",
              "    .dataframe thead th {\n",
              "        text-align: right;\n",
              "    }\n",
              "</style>\n",
              "<table border=\"1\" class=\"dataframe\">\n",
              "  <thead>\n",
              "    <tr style=\"text-align: right;\">\n",
              "      <th></th>\n",
              "      <th>P1</th>\n",
              "      <th>P2</th>\n",
              "    </tr>\n",
              "  </thead>\n",
              "  <tbody>\n",
              "    <tr>\n",
              "      <th>0</th>\n",
              "      <td>3</td>\n",
              "      <td>7</td>\n",
              "    </tr>\n",
              "    <tr>\n",
              "      <th>1</th>\n",
              "      <td>2</td>\n",
              "      <td>6</td>\n",
              "    </tr>\n",
              "    <tr>\n",
              "      <th>2</th>\n",
              "      <td>2</td>\n",
              "      <td>2</td>\n",
              "    </tr>\n",
              "    <tr>\n",
              "      <th>3</th>\n",
              "      <td>5</td>\n",
              "      <td>8</td>\n",
              "    </tr>\n",
              "    <tr>\n",
              "      <th>4</th>\n",
              "      <td>5</td>\n",
              "      <td>5</td>\n",
              "    </tr>\n",
              "    <tr>\n",
              "      <th>5</th>\n",
              "      <td>5</td>\n",
              "      <td>2</td>\n",
              "    </tr>\n",
              "    <tr>\n",
              "      <th>6</th>\n",
              "      <td>6</td>\n",
              "      <td>6</td>\n",
              "    </tr>\n",
              "    <tr>\n",
              "      <th>7</th>\n",
              "      <td>8</td>\n",
              "      <td>4</td>\n",
              "    </tr>\n",
              "    <tr>\n",
              "      <th>8</th>\n",
              "      <td>7</td>\n",
              "      <td>3</td>\n",
              "    </tr>\n",
              "    <tr>\n",
              "      <th>9</th>\n",
              "      <td>10</td>\n",
              "      <td>6</td>\n",
              "    </tr>\n",
              "    <tr>\n",
              "      <th>10</th>\n",
              "      <td>12</td>\n",
              "      <td>8</td>\n",
              "    </tr>\n",
              "  </tbody>\n",
              "</table>\n",
              "</div>"
            ],
            "text/plain": [
              "    P1  P2\n",
              "0    3   7\n",
              "1    2   6\n",
              "2    2   2\n",
              "3    5   8\n",
              "4    5   5\n",
              "5    5   2\n",
              "6    6   6\n",
              "7    8   4\n",
              "8    7   3\n",
              "9   10   6\n",
              "10  12   8"
            ]
          },
          "metadata": {},
          "execution_count": 4
        }
      ]
    },
    {
      "cell_type": "code",
      "metadata": {
        "colab": {
          "base_uri": "https://localhost:8080/",
          "height": 281
        },
        "id": "Ep_a-tE5o2l0",
        "outputId": "851f1ee9-31d6-47d8-bcd3-d14eddcdefb1"
      },
      "source": [
        "plt.scatter(df['P1'],df['P2'])"
      ],
      "execution_count": 26,
      "outputs": [
        {
          "output_type": "execute_result",
          "data": {
            "text/plain": [
              "<matplotlib.collections.PathCollection at 0x7f6247a7e1d0>"
            ]
          },
          "metadata": {},
          "execution_count": 26
        },
        {
          "output_type": "display_data",
          "data": {
            "image/png": "[encoded data removed]",
            "text/plain": [
              "<Figure size 432x288 with 1 Axes>"
            ]
          },
          "metadata": {
            "needs_background": "light"
          }
        }
      ]
    },
    {
      "cell_type": "code",
      "metadata": {
        "colab": {
          "base_uri": "https://localhost:8080/",
          "height": 805
        },
        "id": "8yIbVrEplKI7",
        "outputId": "627d9280-7bec-4b93-f7d6-729c4d88c59d"
      },
      "source": [
        "linked = linkage(df, 'single')\n",
        "labelList= range(1, 12)\n",
        "plt.figure(figsize=(10, 7))\n",
        "dendrogram(linked, orientation='top', labels=labelList, distance_sort='descending', show_leaf_counts=True)"
      ],
      "execution_count": 25,
      "outputs": [
        {
          "output_type": "execute_result",
          "data": {
            "text/plain": [
              "{'color_list': ['g', 'r', 'b', 'b', 'c', 'b', 'b', 'b', 'b', 'b'],\n",
              " 'dcoord': [[0.0, 1.4142135623730951, 1.4142135623730951, 0.0],\n",
              "  [0.0, 1.4142135623730951, 1.4142135623730951, 0.0],\n",
              "  [0.0, 2.23606797749979, 2.23606797749979, 1.4142135623730951],\n",
              "  [1.4142135623730951, 2.23606797749979, 2.23606797749979, 2.23606797749979],\n",
              "  [0.0, 1.4142135623730951, 1.4142135623730951, 0.0],\n",
              "  [0.0, 2.23606797749979, 2.23606797749979, 1.4142135623730951],\n",
              "  [2.23606797749979, 2.8284271247461903, 2.8284271247461903, 2.23606797749979],\n",
              "  [0.0, 2.8284271247461903, 2.8284271247461903, 2.8284271247461903],\n",
              "  [0.0, 2.8284271247461903, 2.8284271247461903, 2.8284271247461903],\n",
              "  [0.0, 3.0, 3.0, 2.8284271247461903]],\n",
              " 'icoord': [[35.0, 35.0, 45.0, 45.0],\n",
              "  [65.0, 65.0, 75.0, 75.0],\n",
              "  [55.0, 55.0, 70.0, 70.0],\n",
              "  [40.0, 40.0, 62.5, 62.5],\n",
              "  [95.0, 95.0, 105.0, 105.0],\n",
              "  [85.0, 85.0, 100.0, 100.0],\n",
              "  [51.25, 51.25, 92.5, 92.5],\n",
              "  [25.0, 25.0, 71.875, 71.875],\n",
              "  [15.0, 15.0, 48.4375, 48.4375],\n",
              "  [5.0, 5.0, 31.71875, 31.71875]],\n",
              " 'ivl': [3, 11, 10, 5, 7, 4, 1, 2, 6, 8, 9],\n",
              " 'leaves': [2, 10, 9, 4, 6, 3, 0, 1, 5, 7, 8]}"
            ]
          },
          "metadata": {},
          "execution_count": 25
        },
        {
          "output_type": "display_data",
          "data": {
            "image/png": "[encoded data removed]",
            "text/plain": [
              "<Figure size 720x504 with 1 Axes>"
            ]
          },
          "metadata": {
            "needs_background": "light"
          }
        }
      ]
    },
    {
      "cell_type": "code",
      "metadata": {
        "colab": {
          "base_uri": "https://localhost:8080/",
          "height": 853
        },
        "id": "jh_fUcbymbK6",
        "outputId": "9c36fed2-14eb-4223-dd3d-e8c7f9832117"
      },
      "source": [
        "linked = linkage(df, 'complete')\n",
        "labelList= range(1, 13)\n",
        "plt.figure(figsize=(10, 7))\n",
        "dendrogram(linked,  orientation='top',labels=labelList,distance_sort='descending',show_leaf_counts=True)"
      ],
      "execution_count": 22,
      "outputs": [
        {
          "output_type": "execute_result",
          "data": {
            "text/plain": [
              "{'color_list': ['g', 'r', 'r', 'r', 'r', 'r', 'r', 'r', 'r', 'b'],\n",
              " 'dcoord': [[0.0, 2.8284271247461903, 2.8284271247461903, 0.0],\n",
              "  [0.0, 1.4142135623730951, 1.4142135623730951, 0.0],\n",
              "  [0.0, 1.4142135623730951, 1.4142135623730951, 0.0],\n",
              "  [0.0, 3.0, 3.0, 1.4142135623730951],\n",
              "  [1.4142135623730951, 4.0, 4.0, 3.0],\n",
              "  [0.0, 1.4142135623730951, 1.4142135623730951, 0.0],\n",
              "  [0.0, 3.0, 3.0, 0.0],\n",
              "  [1.4142135623730951, 6.324555320336759, 6.324555320336759, 3.0],\n",
              "  [4.0, 6.708203932499369, 6.708203932499369, 6.324555320336759],\n",
              "  [2.8284271247461903,\n",
              "   11.661903789690601,\n",
              "   11.661903789690601,\n",
              "   6.708203932499369]],\n",
              " 'icoord': [[5.0, 5.0, 15.0, 15.0],\n",
              "  [25.0, 25.0, 35.0, 35.0],\n",
              "  [55.0, 55.0, 65.0, 65.0],\n",
              "  [45.0, 45.0, 60.0, 60.0],\n",
              "  [30.0, 30.0, 52.5, 52.5],\n",
              "  [75.0, 75.0, 85.0, 85.0],\n",
              "  [95.0, 95.0, 105.0, 105.0],\n",
              "  [80.0, 80.0, 100.0, 100.0],\n",
              "  [41.25, 41.25, 90.0, 90.0],\n",
              "  [10.0, 10.0, 65.625, 65.625]],\n",
              " 'ivl': [11, 12, 2, 3, 5, 6, 8, 9, 10, 4, 7],\n",
              " 'leaves': [9, 10, 0, 1, 3, 4, 6, 7, 8, 2, 5]}"
            ]
          },
          "metadata": {},
          "execution_count": 22
        },
        {
          "output_type": "display_data",
          "data": {
            "image/png": "[encoded data removed]",
            "text/plain": [
              "<Figure size 720x504 with 1 Axes>"
            ]
          },
          "metadata": {
            "needs_background": "light"
          }
        }
      ]
    },
    {
      "cell_type": "code",
      "metadata": {
        "colab": {
          "base_uri": "https://localhost:8080/",
          "height": 951
        },
        "id": "Kz5wLzl9msmw",
        "outputId": "3724a1d0-3df3-424a-85cc-9290f1fc6032"
      },
      "source": [
        "linked = linkage(df, 'average')\n",
        "labelList= range(1, 13)\n",
        "plt.figure(figsize=(10, 7))\n",
        "dendrogram(linked,  orientation='top',labels=labelList,distance_sort='descending',show_leaf_counts=True)"
      ],
      "execution_count": 24,
      "outputs": [
        {
          "output_type": "execute_result",
          "data": {
            "text/plain": [
              "{'color_list': ['g', 'r', 'r', 'r', 'r', 'r', 'r', 'r', 'b', 'b'],\n",
              " 'dcoord': [[0.0, 2.8284271247461903, 2.8284271247461903, 0.0],\n",
              "  [0.0, 1.4142135623730951, 1.4142135623730951, 0.0],\n",
              "  [0.0, 2.9208096264818897, 2.9208096264818897, 1.4142135623730951],\n",
              "  [0.0, 1.4142135623730951, 1.4142135623730951, 0.0],\n",
              "  [0.0, 1.4142135623730951, 1.4142135623730951, 0.0],\n",
              "  [0.0, 2.618033988749895, 2.618033988749895, 1.4142135623730951],\n",
              "  [1.4142135623730951,\n",
              "   3.1657669496744547,\n",
              "   3.1657669496744547,\n",
              "   2.618033988749895],\n",
              "  [2.9208096264818897,\n",
              "   4.634543877949036,\n",
              "   4.634543877949036,\n",
              "   3.1657669496744547],\n",
              "  [0.0, 5.01628665207917, 5.01628665207917, 4.634543877949036],\n",
              "  [2.8284271247461903,\n",
              "   6.9876021662086245,\n",
              "   6.9876021662086245,\n",
              "   5.01628665207917]],\n",
              " 'icoord': [[5.0, 5.0, 15.0, 15.0],\n",
              "  [45.0, 45.0, 55.0, 55.0],\n",
              "  [35.0, 35.0, 50.0, 50.0],\n",
              "  [65.0, 65.0, 75.0, 75.0],\n",
              "  [95.0, 95.0, 105.0, 105.0],\n",
              "  [85.0, 85.0, 100.0, 100.0],\n",
              "  [70.0, 70.0, 92.5, 92.5],\n",
              "  [42.5, 42.5, 81.25, 81.25],\n",
              "  [25.0, 25.0, 61.875, 61.875],\n",
              "  [10.0, 10.0, 43.4375, 43.4375]],\n",
              " 'ivl': [11, 12, 4, 7, 9, 10, 2, 3, 5, 6, 8],\n",
              " 'leaves': [9, 10, 2, 5, 7, 8, 0, 1, 3, 4, 6]}"
            ]
          },
          "metadata": {},
          "execution_count": 24
        },
        {
          "output_type": "display_data",
          "data": {
            "image/png": "[encoded data removed]",
            "text/plain": [
              "<Figure size 720x504 with 1 Axes>"
            ]
          },
          "metadata": {
            "needs_background": "light"
          }
        }
      ]
    },
    {
      "cell_type": "code",
      "metadata": {
        "id": "KKctoQ0omxEn"
      },
      "source": [
        ""
      ],
      "execution_count": null,
      "outputs": []
    }
  ]
}